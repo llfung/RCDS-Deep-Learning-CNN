{
 "cells": [
  {
   "cell_type": "markdown",
   "id": "macro-globe",
   "metadata": {},
   "source": [
    "# 2.1 Building our first convolutional neural network"
   ]
  },
  {
   "cell_type": "markdown",
   "id": "accepting-elite",
   "metadata": {},
   "source": [
    "In this example, we follow and build on one of the tutorials on the [homepage of PyTorch]( https://pytorch.org/tutorials/beginner/blitz/cifar10_tutorial.html), and we recommend this resource for delving deeper into the topic.\n",
    "\n",
    "First, we load the libraries that we will need throughout this notebook.\n",
    "\n",
    "<!--\n",
    "1. <a href =\"#Data\">Data</a>\n",
    "2. <a href =\"#Architecture\">Architecture</a>\n",
    "3. <a href =\"#Training\">Training</a>\n",
    "4. <a href =\"#Testing\">Testing</a>\n",
    "5. <a href =\"#Exercises\">Exercises</a>\n",
    "5. <a href =\"#GPUs\">GPUs</a>\n",
    "-->"
   ]
  },
  {
   "cell_type": "code",
   "execution_count": 1,
   "id": "blind-fiction",
   "metadata": {},
   "outputs": [],
   "source": [
    "# Needed for image handling\n",
    "import torch\n",
    "import torchvision\n",
    "import torchvision.transforms as transforms\n",
    "# Needed to build CNN\n",
    "import torch.nn as nn\n",
    "import torch.optim as optim\n",
    "# Plotting tools\n",
    "import matplotlib.pyplot as plt\n",
    "import numpy as np\n",
    "import time\n",
    "\n",
    "device = torch.device(\"cuda:0\" if torch.cuda.is_available() else \"cpu\")\n",
    "# device = \"cpu\"\n",
    "\n",
    "from torch.utils.tensorboard import SummaryWriter\n",
    "writer = SummaryWriter()"
   ]
  },
  {
   "cell_type": "markdown",
   "id": "collect-springfield",
   "metadata": {},
   "source": [
    "## Data\n",
    "\n",
    "In this notebook, we will work with the CIFAR10 dataset, containing thousands of images with 10 different labels (plane, car, bird, cat, deer, dog, frog, horse, ship and truck). Each picture has three channels (RGB) and is 32x32 pixels. Here, we separately load the test and training data, constructing batches with 32 images each."
   ]
  },
  {
   "cell_type": "code",
   "execution_count": 2,
   "id": "obvious-document",
   "metadata": {},
   "outputs": [
    {
     "name": "stdout",
     "output_type": "stream",
     "text": [
      "Files already downloaded and verified\n",
      "Files already downloaded and verified\n"
     ]
    }
   ],
   "source": [
    "transform = transforms.Compose([transforms.ToTensor(), transforms.Normalize((0.5, 0.5, 0.5), (0.5, 0.5, 0.5))])\n",
    "\n",
    "batch_size = 256\n",
    "\n",
    "trainset = torchvision.datasets.CIFAR10(root='./data', train=True, download=True, transform=transform)\n",
    "testset = torchvision.datasets.CIFAR10(root='./data', train=False, download=True, transform=transform)\n",
    "\n",
    "trainloader = torch.utils.data.DataLoader(trainset, batch_size=batch_size, shuffle=True, num_workers=32, pin_memory=True)\n",
    "testloader = torch.utils.data.DataLoader(testset, batch_size=batch_size, shuffle=False, num_workers=32, pin_memory=True)"
   ]
  },
  {
   "cell_type": "markdown",
   "id": "operating-junior",
   "metadata": {},
   "source": [
    "Let's have a look at one of the pictures in the data set."
   ]
  },
  {
   "cell_type": "code",
   "execution_count": 3,
   "id": "running-bhutan",
   "metadata": {},
   "outputs": [
    {
     "data": {
      "image/png": "[encoded data removed]",
      "text/plain": [
       "<Figure size 640x480 with 1 Axes>"
      ]
     },
     "metadata": {},
     "output_type": "display_data"
    }
   ],
   "source": [
    "plt.imshow(trainset.data[60])\n",
    "plt.show()"
   ]
  },
  {
   "cell_type": "markdown",
   "id": "favorite-restaurant",
   "metadata": {},
   "source": [
    "It's clearly a low-resolution picture of a car. The labels in the data are simply the categories 0-9. Let's write labels that are easier for huma's to relate to."
   ]
  },
  {
   "cell_type": "code",
   "execution_count": 4,
   "id": "adequate-nickname",
   "metadata": {},
   "outputs": [],
   "source": [
    "classes = ('plane', 'car', 'bird', 'cat', 'deer', 'dog', 'frog', 'horse', 'ship', 'truck')"
   ]
  },
  {
   "cell_type": "markdown",
   "id": "mobile-machine",
   "metadata": {},
   "source": [
    "## Architecture\n",
    "\n",
    "To create a convolutional neural network (CNN), we create a new class, here called CNN. We then initialise the class, inheriting from the parent class (here nn.Module) and defining the necessary components of our architecture. Having initialised the class, we put the components together to define how a forward pass will be executed."
   ]
  },
  {
   "cell_type": "code",
   "execution_count": 5,
   "id": "floral-settle",
   "metadata": {},
   "outputs": [],
   "source": [
    "# How many output channels do we want from the first convolutional layer? \n",
    "\n",
    "output_channels_1 = 6\n",
    "\n",
    "class CNN(nn.Module):\n",
    "    def __init__(self):\n",
    "        super().__init__() # Inherit from parent class\n",
    "        # Define layers\n",
    "        # First we have a convolutional layer with 3 input channels and output_channels_1 output channels\n",
    "        self.conv1 = nn.Conv2d(3, output_channels_1, kernel_size=(3,3), stride=1, padding=1)\n",
    "        self.act1 = nn.ReLU()\n",
    "        self.pool1 = nn.MaxPool2d(2, 2) # Pooling layer\n",
    "        self.conv2 = nn.Conv2d(output_channels_1, output_channels_1, kernel_size=(3,3), stride=1, padding=1)\n",
    "        self.flat = nn.Flatten()\n",
    "        self.fc1 = nn.Linear(output_channels_1*8*8, 120)\n",
    "        self.fc2 = nn.Linear(120, 84)\n",
    "        self.fc3 = nn.Linear(84, 10)\n",
    "\n",
    "    def forward(self, x):\n",
    "        # Build CNN\n",
    "        # input 3x32x32 and output 6x32x32\n",
    "        x = self.act1(self.conv1(x))\n",
    "        # input 6x32x32 and output 6x16x16\n",
    "        x = self.pool1(x)\n",
    "        # input 6x16x16 and output 6x16x16\n",
    "        x = self.act1(self.conv2(x))\n",
    "        # input 6x16x16 and output 6x8x8\n",
    "        x = self.pool1(x)\n",
    "        # We now flatten the feature maps to feed them into the neural network\n",
    "        x = self.flat(x)\n",
    "        x = self.act1(self.fc1(x))\n",
    "        x = self.act1(self.fc2(x))\n",
    "        x = self.fc3(x)\n",
    "        return x"
   ]
  },
  {
   "cell_type": "markdown",
   "id": "communist-insurance",
   "metadata": {},
   "source": [
    "We can now construct an instance of this class that we can train and apply for predictions."
   ]
  },
  {
   "cell_type": "code",
   "execution_count": 6,
   "id": "enclosed-closure",
   "metadata": {},
   "outputs": [],
   "source": [
    "cnn = CNN().to(device)"
   ]
  },
  {
   "cell_type": "markdown",
   "id": "durable-straight",
   "metadata": {},
   "source": [
    "But before we turn to training the network, let's have a look at what the different layers do to the images. Let's start with the first convolution layer."
   ]
  },
  {
   "cell_type": "code",
   "execution_count": 7,
   "id": "asian-orbit",
   "metadata": {},
   "outputs": [
    {
     "name": "stderr",
     "output_type": "stream",
     "text": [
      "/tmp/ipykernel_2824625/2239224703.py:2: UserWarning: Creating a tensor from a list of numpy.ndarrays is extremely slow. Please consider converting the list to a single numpy.ndarray with numpy.array() before converting to a tensor. (Triggered internally at ../torch/csrc/utils/tensor_new.cpp:278.)\n",
      "  X = torch.tensor([trainset.data[60]], dtype=torch.float32).permute(0,3,1,2).to(device)\n"
     ]
    },
    {
     "data": {
      "image/png": "[encoded data removed]",
      "text/plain": [
       "<Figure size 1600x800 with 6 Axes>"
      ]
     },
     "metadata": {},
     "output_type": "display_data"
    }
   ],
   "source": [
    "# First, we convert the image of the car into batch with one image (because the network expects batches)\n",
    "X = torch.tensor([trainset.data[60]], dtype=torch.float32).permute(0,3,1,2).to(device)\n",
    "# Then we send it through conv1 to see what conv1 does.\n",
    "with torch.no_grad(): # We don't actually need to compute gradients\n",
    "    X = cnn.conv1(X)\n",
    "X=X.cpu()\n",
    "# Plotting\n",
    "cls = int(np.ceil(output_channels_1/2))\n",
    "fig, axs = plt.subplots(2, cls, sharex=True, sharey=True, figsize=(16,8))\n",
    "for i in range(0, output_channels_1):\n",
    "    row, col = i//cls, i%cls\n",
    "    axs[row][col].imshow(X[0][i])\n",
    "plt.show()"
   ]
  },
  {
   "cell_type": "markdown",
   "id": "annoying-campbell",
   "metadata": {},
   "source": [
    "## Training\n",
    "\n",
    "Having defined the architecture of the CNN, we set out to train it. To do so, we first need to decide what a good match to data implies (i.e., what the loss function is) and how to minimise the loss. Here, we settle for the cross entropy and stochastic gradient descent."
   ]
  },
  {
   "cell_type": "code",
   "execution_count": 8,
   "id": "afraid-colonial",
   "metadata": {},
   "outputs": [],
   "source": [
    "loss_func = nn.CrossEntropyLoss().to(device)\n",
    "optimizer = optim.SGD(cnn.parameters(), lr=1e-3, momentum=0.9)"
   ]
  },
  {
   "cell_type": "markdown",
   "id": "adb1bfae",
   "metadata": {},
   "source": [
    "To see the kernel weights, use `list(cnn.parameters())`"
   ]
  },
  {
   "cell_type": "code",
   "execution_count": 18,
   "id": "c3dad3ee",
   "metadata": {},
   "outputs": [
    {
     "data": {
      "text/plain": [
       "tensor([[[ 0.0365,  0.0708, -0.1318],\n",
       "         [ 0.1597,  0.4570,  0.5254],\n",
       "         [ 0.1462,  0.3472,  0.1217]],\n",
       "\n",
       "        [[-0.1887,  0.0079, -0.3511],\n",
       "         [ 0.0054,  0.3238,  0.1900],\n",
       "         [-0.1212, -0.1894, -0.4636]],\n",
       "\n",
       "        [[ 0.5026,  0.7809,  0.3392],\n",
       "         [ 0.7162,  1.0725,  0.6293],\n",
       "         [ 0.0568,  0.5262, -0.0605]]], grad_fn=<SelectBackward0>)"
      ]
     },
     "execution_count": 18,
     "metadata": {},
     "output_type": "execute_result"
    }
   ],
   "source": [
    "list(cnn.parameters())[0][0]"
   ]
  },
  {
   "cell_type": "markdown",
   "id": "exclusive-monthly",
   "metadata": {},
   "source": [
    "We are now ready to train the network. We do so through successive forward and backpropagation, optimising the weights. For simplicity, let's settle for training during 5 epochs, although fixing the number of epochs in this manner is rather crude and not to be recommended. Running this cell might take a few minutes, which is also why we only have 5 epochs: 5 epochs will not be enough for convergence, *so you shouldn't do this if you were to build a CNN,* but since we are only trying to understand how things work in this notebook, it's good enough for our purposes (see also exercises 4 and 8). Below, we will see how we can speed up computations with GPUs."
   ]
  },
  {
   "cell_type": "code",
   "execution_count": 9,
   "id": "wired-decline",
   "metadata": {},
   "outputs": [
    {
     "name": "stdout",
     "output_type": "stream",
     "text": [
      "epoch 1, loss: 2.302\n",
      "epoch 2, loss: 2.298\n",
      "epoch 3, loss: 2.290\n",
      "epoch 4, loss: 2.265\n",
      "epoch 5, loss: 2.190\n",
      "epoch 6, loss: 2.112\n",
      "epoch 7, loss: 2.055\n",
      "epoch 8, loss: 2.000\n",
      "epoch 9, loss: 1.956\n",
      "epoch 10, loss: 1.916\n",
      "epoch 11, loss: 1.867\n",
      "epoch 12, loss: 1.808\n",
      "epoch 13, loss: 1.755\n",
      "epoch 14, loss: 1.714\n",
      "epoch 15, loss: 1.673\n",
      "epoch 16, loss: 1.630\n",
      "epoch 17, loss: 1.598\n",
      "epoch 18, loss: 1.563\n",
      "epoch 19, loss: 1.540\n",
      "epoch 20, loss: 1.508\n",
      "epoch 21, loss: 1.489\n",
      "epoch 22, loss: 1.468\n",
      "epoch 23, loss: 1.454\n",
      "epoch 24, loss: 1.433\n",
      "epoch 25, loss: 1.424\n",
      "epoch 26, loss: 1.406\n",
      "epoch 27, loss: 1.392\n",
      "epoch 28, loss: 1.381\n",
      "epoch 29, loss: 1.373\n",
      "epoch 30, loss: 1.359\n",
      "epoch 31, loss: 1.351\n",
      "epoch 32, loss: 1.340\n",
      "epoch 33, loss: 1.329\n",
      "epoch 34, loss: 1.324\n",
      "epoch 35, loss: 1.315\n",
      "epoch 36, loss: 1.307\n",
      "epoch 37, loss: 1.298\n",
      "epoch 38, loss: 1.290\n",
      "epoch 39, loss: 1.283\n",
      "epoch 40, loss: 1.277\n",
      "epoch 41, loss: 1.272\n",
      "epoch 42, loss: 1.259\n",
      "epoch 43, loss: 1.255\n",
      "epoch 44, loss: 1.245\n",
      "epoch 45, loss: 1.238\n",
      "epoch 46, loss: 1.230\n",
      "epoch 47, loss: 1.221\n",
      "epoch 48, loss: 1.214\n",
      "epoch 49, loss: 1.212\n",
      "epoch 50, loss: 1.203\n",
      "epoch 51, loss: 1.195\n",
      "epoch 52, loss: 1.188\n",
      "epoch 53, loss: 1.185\n",
      "epoch 54, loss: 1.174\n",
      "epoch 55, loss: 1.169\n",
      "epoch 56, loss: 1.165\n",
      "epoch 57, loss: 1.156\n",
      "epoch 58, loss: 1.149\n",
      "epoch 59, loss: 1.142\n",
      "epoch 60, loss: 1.134\n",
      "epoch 61, loss: 1.130\n",
      "epoch 62, loss: 1.124\n",
      "epoch 63, loss: 1.116\n",
      "epoch 64, loss: 1.111\n",
      "epoch 65, loss: 1.105\n",
      "epoch 66, loss: 1.097\n",
      "epoch 67, loss: 1.093\n",
      "epoch 68, loss: 1.087\n",
      "epoch 69, loss: 1.078\n",
      "epoch 70, loss: 1.073\n",
      "epoch 71, loss: 1.066\n",
      "epoch 72, loss: 1.062\n",
      "epoch 73, loss: 1.057\n",
      "epoch 74, loss: 1.051\n",
      "epoch 75, loss: 1.044\n",
      "epoch 76, loss: 1.038\n",
      "epoch 77, loss: 1.033\n",
      "epoch 78, loss: 1.030\n",
      "epoch 79, loss: 1.020\n",
      "epoch 80, loss: 1.018\n",
      "epoch 81, loss: 1.009\n",
      "epoch 82, loss: 1.005\n",
      "epoch 83, loss: 0.999\n",
      "epoch 84, loss: 0.996\n",
      "epoch 85, loss: 0.991\n",
      "epoch 86, loss: 0.983\n",
      "epoch 87, loss: 0.982\n",
      "epoch 88, loss: 0.976\n",
      "epoch 89, loss: 0.969\n",
      "epoch 90, loss: 0.961\n",
      "epoch 91, loss: 0.961\n",
      "epoch 92, loss: 0.956\n",
      "epoch 93, loss: 0.950\n",
      "epoch 94, loss: 0.946\n",
      "epoch 95, loss: 0.942\n",
      "epoch 96, loss: 0.939\n",
      "epoch 97, loss: 0.938\n",
      "epoch 98, loss: 0.924\n",
      "epoch 99, loss: 0.921\n",
      "epoch 100, loss: 0.919\n",
      "epoch 101, loss: 0.915\n",
      "epoch 102, loss: 0.905\n",
      "epoch 103, loss: 0.904\n",
      "epoch 104, loss: 0.897\n",
      "epoch 105, loss: 0.896\n",
      "epoch 106, loss: 0.888\n",
      "epoch 107, loss: 0.885\n",
      "epoch 108, loss: 0.883\n",
      "epoch 109, loss: 0.877\n",
      "epoch 110, loss: 0.872\n",
      "epoch 111, loss: 0.871\n",
      "epoch 112, loss: 0.865\n",
      "epoch 113, loss: 0.859\n",
      "epoch 114, loss: 0.855\n",
      "epoch 115, loss: 0.853\n",
      "epoch 116, loss: 0.849\n",
      "epoch 117, loss: 0.846\n",
      "epoch 118, loss: 0.842\n",
      "epoch 119, loss: 0.836\n",
      "epoch 120, loss: 0.830\n",
      "epoch 121, loss: 0.828\n",
      "epoch 122, loss: 0.826\n",
      "epoch 123, loss: 0.817\n",
      "epoch 124, loss: 0.815\n",
      "epoch 125, loss: 0.809\n",
      "epoch 126, loss: 0.805\n",
      "epoch 127, loss: 0.803\n",
      "epoch 128, loss: 0.799\n",
      "epoch 129, loss: 0.797\n",
      "epoch 130, loss: 0.792\n",
      "epoch 131, loss: 0.785\n",
      "epoch 132, loss: 0.784\n",
      "epoch 133, loss: 0.779\n",
      "epoch 134, loss: 0.776\n",
      "epoch 135, loss: 0.772\n",
      "epoch 136, loss: 0.768\n",
      "epoch 137, loss: 0.763\n",
      "epoch 138, loss: 0.763\n",
      "epoch 139, loss: 0.756\n",
      "epoch 140, loss: 0.752\n",
      "epoch 141, loss: 0.749\n",
      "epoch 142, loss: 0.745\n",
      "epoch 143, loss: 0.744\n",
      "epoch 144, loss: 0.741\n",
      "epoch 145, loss: 0.733\n",
      "epoch 146, loss: 0.726\n",
      "epoch 147, loss: 0.727\n",
      "epoch 148, loss: 0.723\n",
      "epoch 149, loss: 0.726\n",
      "epoch 150, loss: 0.716\n",
      "epoch 151, loss: 0.711\n",
      "epoch 152, loss: 0.709\n",
      "epoch 153, loss: 0.709\n",
      "epoch 154, loss: 0.702\n",
      "epoch 155, loss: 0.697\n",
      "epoch 156, loss: 0.694\n",
      "epoch 157, loss: 0.692\n",
      "epoch 158, loss: 0.688\n",
      "epoch 159, loss: 0.685\n",
      "epoch 160, loss: 0.682\n",
      "epoch 161, loss: 0.676\n",
      "epoch 162, loss: 0.673\n",
      "epoch 163, loss: 0.668\n",
      "epoch 164, loss: 0.670\n",
      "epoch 165, loss: 0.668\n",
      "epoch 166, loss: 0.658\n",
      "epoch 167, loss: 0.653\n",
      "epoch 168, loss: 0.654\n",
      "epoch 169, loss: 0.649\n",
      "epoch 170, loss: 0.648\n",
      "epoch 171, loss: 0.642\n",
      "epoch 172, loss: 0.635\n",
      "epoch 173, loss: 0.635\n",
      "epoch 174, loss: 0.630\n",
      "epoch 175, loss: 0.627\n",
      "epoch 176, loss: 0.628\n",
      "epoch 177, loss: 0.622\n",
      "epoch 178, loss: 0.621\n",
      "epoch 179, loss: 0.616\n",
      "epoch 180, loss: 0.612\n",
      "epoch 181, loss: 0.611\n",
      "epoch 182, loss: 0.607\n",
      "epoch 183, loss: 0.600\n",
      "epoch 184, loss: 0.602\n",
      "epoch 185, loss: 0.596\n",
      "epoch 186, loss: 0.590\n",
      "epoch 187, loss: 0.590\n",
      "epoch 188, loss: 0.584\n",
      "epoch 189, loss: 0.585\n",
      "epoch 190, loss: 0.582\n",
      "epoch 191, loss: 0.580\n",
      "epoch 192, loss: 0.573\n",
      "epoch 193, loss: 0.566\n",
      "epoch 194, loss: 0.567\n",
      "epoch 195, loss: 0.572\n",
      "epoch 196, loss: 0.559\n",
      "epoch 197, loss: 0.559\n",
      "epoch 198, loss: 0.558\n",
      "epoch 199, loss: 0.549\n",
      "epoch 200, loss: 0.551\n",
      "epoch 201, loss: 0.545\n",
      "epoch 202, loss: 0.541\n",
      "epoch 203, loss: 0.541\n",
      "epoch 204, loss: 0.536\n",
      "epoch 205, loss: 0.533\n",
      "epoch 206, loss: 0.530\n",
      "epoch 207, loss: 0.524\n",
      "epoch 208, loss: 0.525\n",
      "epoch 209, loss: 0.523\n",
      "epoch 210, loss: 0.518\n",
      "epoch 211, loss: 0.517\n",
      "epoch 212, loss: 0.510\n",
      "epoch 213, loss: 0.519\n",
      "epoch 214, loss: 0.513\n",
      "epoch 215, loss: 0.505\n",
      "epoch 216, loss: 0.500\n",
      "epoch 217, loss: 0.500\n",
      "epoch 218, loss: 0.493\n",
      "epoch 219, loss: 0.493\n",
      "epoch 220, loss: 0.491\n",
      "epoch 221, loss: 0.490\n",
      "epoch 222, loss: 0.485\n",
      "epoch 223, loss: 0.485\n",
      "epoch 224, loss: 0.480\n",
      "epoch 225, loss: 0.478\n",
      "epoch 226, loss: 0.478\n",
      "epoch 227, loss: 0.474\n",
      "epoch 228, loss: 0.468\n",
      "epoch 229, loss: 0.462\n",
      "epoch 230, loss: 0.462\n",
      "epoch 231, loss: 0.463\n",
      "epoch 232, loss: 0.459\n",
      "epoch 233, loss: 0.454\n",
      "epoch 234, loss: 0.447\n",
      "epoch 235, loss: 0.447\n",
      "epoch 236, loss: 0.447\n",
      "epoch 237, loss: 0.445\n",
      "epoch 238, loss: 0.440\n",
      "epoch 239, loss: 0.438\n",
      "epoch 240, loss: 0.430\n",
      "epoch 241, loss: 0.429\n",
      "epoch 242, loss: 0.430\n",
      "epoch 243, loss: 0.425\n",
      "epoch 244, loss: 0.426\n",
      "epoch 245, loss: 0.426\n",
      "epoch 246, loss: 0.419\n",
      "epoch 247, loss: 0.417\n",
      "epoch 248, loss: 0.416\n",
      "epoch 249, loss: 0.411\n",
      "epoch 250, loss: 0.408\n",
      "epoch 251, loss: 0.407\n",
      "epoch 252, loss: 0.404\n",
      "epoch 253, loss: 0.403\n",
      "epoch 254, loss: 0.396\n",
      "epoch 255, loss: 0.400\n",
      "epoch 256, loss: 0.401\n",
      "epoch 257, loss: 0.393\n",
      "epoch 258, loss: 0.393\n",
      "epoch 259, loss: 0.388\n",
      "epoch 260, loss: 0.388\n",
      "epoch 261, loss: 0.385\n",
      "epoch 262, loss: 0.379\n",
      "epoch 263, loss: 0.378\n",
      "epoch 264, loss: 0.373\n",
      "epoch 265, loss: 0.381\n",
      "epoch 266, loss: 0.371\n",
      "epoch 267, loss: 0.371\n",
      "epoch 268, loss: 0.365\n",
      "epoch 269, loss: 0.364\n",
      "epoch 270, loss: 0.367\n",
      "epoch 271, loss: 0.352\n",
      "epoch 272, loss: 0.357\n",
      "epoch 273, loss: 0.359\n",
      "epoch 274, loss: 0.342\n",
      "epoch 275, loss: 0.347\n",
      "epoch 276, loss: 0.345\n",
      "epoch 277, loss: 0.350\n",
      "epoch 278, loss: 0.343\n",
      "epoch 279, loss: 0.341\n",
      "epoch 280, loss: 0.342\n",
      "epoch 281, loss: 0.337\n",
      "epoch 282, loss: 0.341\n",
      "epoch 283, loss: 0.326\n",
      "epoch 284, loss: 0.328\n",
      "epoch 285, loss: 0.318\n",
      "epoch 286, loss: 0.323\n",
      "epoch 287, loss: 0.326\n",
      "epoch 288, loss: 0.318\n",
      "epoch 289, loss: 0.311\n",
      "epoch 290, loss: 0.319\n",
      "epoch 291, loss: 0.310\n",
      "epoch 292, loss: 0.311\n",
      "epoch 293, loss: 0.312\n",
      "epoch 294, loss: 0.311\n",
      "epoch 295, loss: 0.308\n",
      "epoch 296, loss: 0.303\n",
      "epoch 297, loss: 0.294\n",
      "epoch 298, loss: 0.297\n",
      "epoch 299, loss: 0.295\n",
      "epoch 300, loss: 0.299\n",
      "epoch 301, loss: 0.286\n",
      "epoch 302, loss: 0.290\n",
      "epoch 303, loss: 0.283\n",
      "epoch 304, loss: 0.280\n",
      "epoch 305, loss: 0.287\n",
      "epoch 306, loss: 0.277\n",
      "epoch 307, loss: 0.272\n",
      "epoch 308, loss: 0.277\n",
      "epoch 309, loss: 0.275\n",
      "epoch 310, loss: 0.274\n",
      "epoch 311, loss: 0.271\n",
      "epoch 312, loss: 0.265\n",
      "epoch 313, loss: 0.264\n",
      "epoch 314, loss: 0.262\n",
      "epoch 315, loss: 0.260\n",
      "epoch 316, loss: 0.260\n",
      "epoch 317, loss: 0.245\n",
      "epoch 318, loss: 0.248\n",
      "epoch 319, loss: 0.258\n",
      "epoch 320, loss: 0.247\n",
      "epoch 321, loss: 0.252\n",
      "epoch 322, loss: 0.257\n",
      "epoch 323, loss: 0.244\n",
      "epoch 324, loss: 0.239\n",
      "epoch 325, loss: 0.244\n",
      "epoch 326, loss: 0.248\n",
      "epoch 327, loss: 0.243\n",
      "epoch 328, loss: 0.254\n",
      "epoch 329, loss: 0.244\n",
      "epoch 330, loss: 0.235\n",
      "epoch 331, loss: 0.230\n",
      "epoch 332, loss: 0.228\n",
      "epoch 333, loss: 0.224\n",
      "epoch 334, loss: 0.222\n",
      "epoch 335, loss: 0.224\n",
      "epoch 336, loss: 0.230\n",
      "epoch 337, loss: 0.222\n",
      "epoch 338, loss: 0.217\n",
      "epoch 339, loss: 0.218\n",
      "epoch 340, loss: 0.211\n",
      "epoch 341, loss: 0.208\n",
      "epoch 342, loss: 0.200\n",
      "epoch 343, loss: 0.212\n",
      "epoch 344, loss: 0.204\n",
      "epoch 345, loss: 0.211\n",
      "epoch 346, loss: 0.200\n",
      "epoch 347, loss: 0.205\n",
      "epoch 348, loss: 0.215\n",
      "epoch 349, loss: 0.209\n",
      "epoch 350, loss: 0.193\n",
      "epoch 351, loss: 0.195\n",
      "epoch 352, loss: 0.186\n",
      "epoch 353, loss: 0.196\n",
      "epoch 354, loss: 0.198\n",
      "epoch 355, loss: 0.184\n",
      "epoch 356, loss: 0.194\n",
      "epoch 357, loss: 0.188\n",
      "epoch 358, loss: 0.194\n",
      "epoch 359, loss: 0.189\n",
      "epoch 360, loss: 0.179\n",
      "epoch 361, loss: 0.175\n",
      "epoch 362, loss: 0.171\n",
      "epoch 363, loss: 0.166\n",
      "epoch 364, loss: 0.179\n",
      "epoch 365, loss: 0.168\n",
      "epoch 366, loss: 0.156\n",
      "epoch 367, loss: 0.164\n",
      "epoch 368, loss: 0.170\n",
      "epoch 369, loss: 0.171\n",
      "epoch 370, loss: 0.186\n",
      "epoch 371, loss: 0.171\n",
      "epoch 372, loss: 0.167\n",
      "epoch 373, loss: 0.174\n",
      "epoch 374, loss: 0.153\n",
      "epoch 375, loss: 0.159\n",
      "epoch 376, loss: 0.158\n",
      "epoch 377, loss: 0.151\n",
      "epoch 378, loss: 0.149\n",
      "epoch 379, loss: 0.157\n",
      "epoch 380, loss: 0.163\n",
      "epoch 381, loss: 0.164\n",
      "epoch 382, loss: 0.162\n",
      "epoch 383, loss: 0.147\n",
      "epoch 384, loss: 0.142\n",
      "epoch 385, loss: 0.154\n",
      "epoch 386, loss: 0.146\n",
      "epoch 387, loss: 0.140\n",
      "epoch 388, loss: 0.136\n",
      "epoch 389, loss: 0.166\n",
      "epoch 390, loss: 0.154\n",
      "epoch 391, loss: 0.142\n",
      "epoch 392, loss: 0.133\n",
      "epoch 393, loss: 0.147\n",
      "epoch 394, loss: 0.140\n",
      "epoch 395, loss: 0.130\n",
      "epoch 396, loss: 0.136\n",
      "epoch 397, loss: 0.132\n",
      "epoch 398, loss: 0.129\n",
      "epoch 399, loss: 0.124\n",
      "epoch 400, loss: 0.125\n",
      "epoch 401, loss: 0.112\n",
      "epoch 402, loss: 0.126\n",
      "epoch 403, loss: 0.119\n",
      "epoch 404, loss: 0.112\n",
      "epoch 405, loss: 0.118\n",
      "epoch 406, loss: 0.115\n",
      "epoch 407, loss: 0.107\n",
      "epoch 408, loss: 0.102\n",
      "epoch 409, loss: 0.098\n",
      "epoch 410, loss: 0.091\n",
      "epoch 411, loss: 0.132\n",
      "epoch 412, loss: 0.128\n",
      "epoch 413, loss: 0.102\n",
      "epoch 414, loss: 0.100\n",
      "epoch 415, loss: 0.112\n",
      "epoch 416, loss: 0.117\n",
      "epoch 417, loss: 0.109\n",
      "epoch 418, loss: 0.157\n",
      "epoch 419, loss: 0.128\n",
      "epoch 420, loss: 0.130\n",
      "epoch 421, loss: 0.094\n",
      "epoch 422, loss: 0.096\n",
      "epoch 423, loss: 0.100\n",
      "epoch 424, loss: 0.094\n",
      "epoch 425, loss: 0.098\n",
      "epoch 426, loss: 0.082\n",
      "epoch 427, loss: 0.087\n",
      "epoch 428, loss: 0.081\n",
      "epoch 429, loss: 0.083\n",
      "epoch 430, loss: 0.104\n",
      "epoch 431, loss: 0.139\n",
      "epoch 432, loss: 0.123\n",
      "epoch 433, loss: 0.137\n",
      "epoch 434, loss: 0.092\n",
      "epoch 435, loss: 0.105\n",
      "epoch 436, loss: 0.088\n",
      "epoch 437, loss: 0.076\n",
      "epoch 438, loss: 0.072\n",
      "epoch 439, loss: 0.072\n",
      "epoch 440, loss: 0.081\n",
      "epoch 441, loss: 0.066\n",
      "epoch 442, loss: 0.076\n",
      "epoch 443, loss: 0.088\n",
      "epoch 444, loss: 0.092\n",
      "epoch 445, loss: 0.138\n",
      "epoch 446, loss: 0.108\n",
      "epoch 447, loss: 0.080\n",
      "epoch 448, loss: 0.071\n",
      "epoch 449, loss: 0.077\n",
      "epoch 450, loss: 0.083\n",
      "epoch 451, loss: 0.118\n",
      "epoch 452, loss: 0.120\n",
      "epoch 453, loss: 0.109\n",
      "epoch 454, loss: 0.099\n",
      "epoch 455, loss: 0.087\n",
      "epoch 456, loss: 0.056\n",
      "epoch 457, loss: 0.059\n",
      "epoch 458, loss: 0.048\n",
      "epoch 459, loss: 0.041\n",
      "epoch 460, loss: 0.044\n",
      "epoch 461, loss: 0.048\n",
      "epoch 462, loss: 0.043\n",
      "epoch 463, loss: 0.041\n",
      "epoch 464, loss: 0.029\n",
      "epoch 465, loss: 0.028\n",
      "epoch 466, loss: 0.026\n",
      "epoch 467, loss: 0.024\n",
      "epoch 468, loss: 0.020\n",
      "epoch 469, loss: 0.018\n",
      "epoch 470, loss: 0.019\n",
      "epoch 471, loss: 0.018\n",
      "epoch 472, loss: 0.016\n",
      "epoch 473, loss: 0.015\n",
      "epoch 474, loss: 0.016\n",
      "epoch 475, loss: 0.015\n",
      "epoch 476, loss: 0.014\n",
      "epoch 477, loss: 0.013\n",
      "epoch 478, loss: 0.013\n",
      "epoch 479, loss: 0.013\n",
      "epoch 480, loss: 0.012\n",
      "epoch 481, loss: 0.012\n",
      "epoch 482, loss: 0.012\n",
      "epoch 483, loss: 0.011\n",
      "epoch 484, loss: 0.011\n",
      "epoch 485, loss: 0.011\n",
      "epoch 486, loss: 0.010\n",
      "epoch 487, loss: 0.010\n",
      "epoch 488, loss: 0.010\n",
      "epoch 489, loss: 0.009\n",
      "epoch 490, loss: 0.009\n",
      "epoch 491, loss: 0.009\n",
      "epoch 492, loss: 0.009\n",
      "epoch 493, loss: 0.009\n",
      "epoch 494, loss: 0.009\n",
      "epoch 495, loss: 0.008\n",
      "epoch 496, loss: 0.008\n",
      "epoch 497, loss: 0.008\n",
      "epoch 498, loss: 0.008\n",
      "epoch 499, loss: 0.008\n",
      "epoch 500, loss: 0.008\n",
      "Training time 1038.9757418632507 seconds\n"
     ]
    },
    {
     "data": {
      "image/png": "[encoded data removed]",
      "text/plain": [
       "<Figure size 800x800 with 1 Axes>"
      ]
     },
     "metadata": {},
     "output_type": "display_data"
    }
   ],
   "source": [
    "n_epochs = 500\n",
    "tloss = []\n",
    "start = time.time()\n",
    "batches = np.ceil(len(trainloader.dataset)/batch_size)\n",
    "\n",
    "for epoch in range(n_epochs):\n",
    "    \n",
    "    training_loss = 0.0\n",
    "    for  i, data in enumerate(trainloader, 0):\n",
    "        # get the inputs; data is a list of [inputs, labels]\n",
    "        inputs, labels = data\n",
    "        inputs = inputs.to(device, non_blocking=True) # SLOW!! # Move data from CPU to the GPU in parallel by num_workers in the DataLoader\n",
    "        labels = labels.to(device, non_blocking=True) # SLOW!! # Move data from CPU to the GPU in parallel by num_workers in the DataLoader\n",
    "        with torch.autocast(device_type='cuda', dtype=torch.float32):\n",
    "            y_pred = cnn(inputs) # Go through batches of training data\n",
    "            loss = loss_func(y_pred, labels) # Compare output to truth\n",
    "        writer.add_scalar('Loss/train', loss, epoch)\n",
    "\n",
    "        optimizer.zero_grad()\n",
    "        \n",
    "        # backward + optimize\n",
    "        loss.backward()\n",
    "        optimizer.step()\n",
    " \n",
    "        training_loss += loss.item()\n",
    "        if i % batches == batches-1:    # print every 2000 mini-batches\n",
    "            print(f'epoch {epoch + 1}, loss: {training_loss / batches:.3f}')\n",
    "            tloss.extend([training_loss / batches])\n",
    "            training_loss = 0.0\n",
    "\n",
    "print(\"Training time {} seconds\".format(time.time()-start))\n",
    "writer.flush()\n",
    "\n",
    "plt.figure(figsize=(8,8))\n",
    "plt.plot(tloss)\n",
    "plt.xlabel(\"Epochs\",fontsize=14)\n",
    "plt.ylabel(\"Loss\",fontsize=14)\n",
    "plt.xticks(fontsize=14)\n",
    "plt.yticks(fontsize=14)\n",
    "plt.show()"
   ]
  },
  {
   "cell_type": "markdown",
   "id": "vocal-coordinate",
   "metadata": {},
   "source": [
    "Before we continue, let's store the trained network."
   ]
  },
  {
   "cell_type": "code",
   "execution_count": 14,
   "id": "insured-cannon",
   "metadata": {},
   "outputs": [],
   "source": [
    "# On your own computer, you would do the following:\n",
    "PATH = './cifar10_cnn.pth'\n",
    "torch.save(cnn.cpu().state_dict(), PATH)\n",
    "# That also works in google colab... but where did the file end up? And how can you store it on your Google cloud?"
   ]
  },
  {
   "cell_type": "markdown",
   "id": "transsexual-pavilion",
   "metadata": {},
   "source": [
    "## Testing\n",
    "\n",
    "We have successfully trained the network, but is it any good? Let's apply the network to the test data that we previously withheld to answer this question. For this purpose, let's start out by comparing some of the predicted labels with the ground truth."
   ]
  },
  {
   "cell_type": "code",
   "execution_count": 12,
   "id": "configured-crowd",
   "metadata": {},
   "outputs": [
    {
     "name": "stdout",
     "output_type": "stream",
     "text": [
      "Predicted:  cat   ship  plane plane deer  frog  car   frog  cat   car  \n",
      "Truth:  cat   ship  ship  plane frog  frog  car   frog  cat   car  \n"
     ]
    }
   ],
   "source": [
    "dataiter = iter(testloader)\n",
    "images, labels = next(dataiter)\n",
    "\n",
    "outputs = cnn(images.to(device)).cpu()\n",
    "_, predicted = torch.max(outputs, 1)\n",
    "\n",
    "print('Predicted: ', ' '.join(f'{classes[predicted[j]]:5s}' for j in range(10)))\n",
    "print('Truth: ', ' '.join(f'{classes[labels[j]]:5s}' for j in range(10)))"
   ]
  },
  {
   "cell_type": "markdown",
   "id": "seven-david",
   "metadata": {},
   "source": [
    "That doesn't look too bad. How does the model perform on the test set as a whole?"
   ]
  },
  {
   "cell_type": "code",
   "execution_count": 13,
   "id": "strong-soundtrack",
   "metadata": {},
   "outputs": [
    {
     "name": "stdout",
     "output_type": "stream",
     "text": [
      "Accuracy of the network on test images: 58 %\n"
     ]
    }
   ],
   "source": [
    "correct = 0\n",
    "total = 0\n",
    "for data in testloader:\n",
    "    images, labels = data\n",
    "    # calculate outputs by running images through the network\n",
    "    outputs = cnn(images.to(device)).cpu()\n",
    "    # the class with the highest energy is what we choose as prediction\n",
    "    _, predicted = torch.max(outputs.data, 1)\n",
    "    total += labels.size(0)\n",
    "    correct += (predicted == labels).sum().item()\n",
    "\n",
    "print(f'Accuracy of the network on test images: {100 * correct // total} %')"
   ]
  },
  {
   "cell_type": "markdown",
   "id": "aging-amplifier",
   "metadata": {},
   "source": [
    "If we were to guess randomly, the best we could do would be to get 10 per cent right with 10 categories. So, the model isn't doing that bad. But could we have done better? Should we have trained for longer than 20 epochs? What about overfitting? Or underfitting? We will answer these questions next week."
   ]
  },
  {
   "cell_type": "code",
   "execution_count": 15,
   "id": "599fe2ba",
   "metadata": {},
   "outputs": [],
   "source": [
    "writer.close()"
   ]
  },
  {
   "cell_type": "markdown",
   "id": "severe-birthday",
   "metadata": {},
   "source": [
    "## Exercises"
   ]
  },
  {
   "cell_type": "markdown",
   "id": "accepted-stroke",
   "metadata": {},
   "source": [
    "**Exercise 1**: Discuss in the group what the different layers in the CNN (e.g., [Conv2d](https://pytorch.org/docs/stable/generated/torch.nn.Conv2d.html)). Explain the dimensions of the input and output of each layer.\n",
    "\n",
    "**Exercise 2**: In the network above, one type of activation function is included. Which one? What other types of [activation functions](https://pytorch.org/docs/stable/nn.html#non-linear-activations-weighted-sum-nonlinearity\n",
    ") are there?\n",
    "\n",
    "\n",
    "**Exercise 3**: Plot the output of the first pooling layer in the cell below. Rather than passing the images to this layer as done above (architecture, cell [7]), you will have to pass the output from conv1. Why?"
   ]
  },
  {
   "cell_type": "code",
   "execution_count": null,
   "id": "stable-doctrine",
   "metadata": {},
   "outputs": [],
   "source": []
  },
  {
   "cell_type": "markdown",
   "id": "spare-holly",
   "metadata": {},
   "source": [
    "**Exercise 4**: Explain what happens in the code in cell [9] (training). What does the plot show? Does it look like expected? What happens if you increase the number of epochs? See what happens to the accuracy of the network in cell [12] if you rerun the training with 20 epochs in cell [9]."
   ]
  },
  {
   "cell_type": "markdown",
   "id": "divided-circulation",
   "metadata": {},
   "source": [
    "**Exercise 5**: Copy the neural network into the cell below and change the architecture of the neural network introducing, e.g., dropout."
   ]
  },
  {
   "cell_type": "code",
   "execution_count": null,
   "id": "humanitarian-spain",
   "metadata": {},
   "outputs": [],
   "source": []
  },
  {
   "cell_type": "markdown",
   "id": "worldwide-range",
   "metadata": {},
   "source": [
    "**Exercise 6**: Discuss the choice of the loss function. What alternatives are there?\n",
    "\n",
    "**Exercise 7**: What happens if you change the dimensions of the output of the first convolutional layer? Or the batch size? Or the size of the training set? Try to do so by changing the correct lines of code above and rerunning the notebook. You might want to run your tests across different computers to save time."
   ]
  },
  {
   "cell_type": "code",
   "execution_count": null,
   "id": "parental-implementation",
   "metadata": {},
   "outputs": [],
   "source": []
  },
  {
   "cell_type": "markdown",
   "id": "divine-ground",
   "metadata": {},
   "source": [
    "**Exercise 9** (IMPORTANT): Having trained and tested your neural network, you get a yet unseen image and want to predict a label. What would you need to do with the image (transforms) to pass it to the network? (Hint: Also, note that the network expects batches). Since we are merely interested in learning how to make such predictions, let's just pretend that we had never seen one of the images from the test set before and wanted to make a prediction. Finish the code below."
   ]
  },
  {
   "cell_type": "code",
   "execution_count": 13,
   "id": "posted-story",
   "metadata": {},
   "outputs": [
    {
     "ename": "SyntaxError",
     "evalue": "invalid syntax (<ipython-input-13-b17eb5dd9b2d>, line 8)",
     "output_type": "error",
     "traceback": [
      "\u001b[0;36m  File \u001b[0;32m\"<ipython-input-13-b17eb5dd9b2d>\"\u001b[0;36m, line \u001b[0;32m8\u001b[0m\n\u001b[0;31m    input_image = #[INSERT CODE HERE]\u001b[0m\n\u001b[0m                                     ^\u001b[0m\n\u001b[0;31mSyntaxError\u001b[0m\u001b[0;31m:\u001b[0m invalid syntax\n"
     ]
    }
   ],
   "source": [
    "# Load and preprocess the new image\n",
    "dummy = testset.data[1]\n",
    "plt.imshow(dummy)\n",
    "\n",
    "# Apply the transformation for the new image\n",
    "# Remember to make the image into a batch. Check out transform(...).unsqueeze(0)\n",
    "\n",
    "input_image = #[INSERT CODE HERE]\n",
    "\n",
    "# Use evaluation mode (i.e. not training mode. This is important, e.g., when having dropout)\n",
    "cnn.eval()\n",
    "\n",
    "# Make and get prediction\n",
    "with torch.no_grad():\n",
    "    outputs = cnn(input_image)\n",
    "\n",
    "_, predicted = outputs.max(1)\n",
    "\n",
    "# Print the predicted class\n",
    "\n",
    "print(#[INSERT CODE HERE])\n",
    "\n",
    "# You can also get the probability of each class. What was the second most likely label?\n",
    "probabilities = torch.nn.functional.softmax(outputs, dim=1)[0]\n",
    "\n",
    "print(probabilities)\n",
    "\n",
    "# Get the index of the second most likely label\n",
    "#[INSERT CODE HERE]"
   ]
  },
  {
   "cell_type": "markdown",
   "id": "corresponding-curve",
   "metadata": {},
   "source": [
    "## GPUs"
   ]
  },
  {
   "cell_type": "markdown",
   "id": "chubby-horizontal",
   "metadata": {},
   "source": [
    "Running your code on GPUs rather than CPUs can significantly speed up the computations when training a neural network. Depending on your department, you will have different GPU resources available for high-performance computing (HPC). It is beyond this course to dive into HPC and batch scripts. Instead, we note that GPUs are available from other sources. Rather conveniently, Google Colab actually offers GPUs. To access these, select \"Runtime\" from the menu bar on the top. Then select \"Change runtime type\". Change from CPUs to GPUs. You can check the GPUs you have available with. See also [Google Colab's Guide](https://colab.research.google.com/notebooks/gpu.ipynb)."
   ]
  },
  {
   "cell_type": "code",
   "execution_count": null,
   "id": "conceptual-parameter",
   "metadata": {},
   "outputs": [],
   "source": [
    "!nvidia-smi"
   ]
  },
  {
   "cell_type": "markdown",
   "id": "relevant-thanksgiving",
   "metadata": {},
   "source": [
    "To actually run the code using GPUs, you need to add some additional lines of code to move the corresponding objects (the model and input tensors) to the GPUs, the device, defined as:\n",
    "\n",
    "- device = torch.device(\"cuda\" if torch.cuda.is_available() else \"cpu\")\n",
    "\n",
    "This line of code checks whether a GPU with CUDA (Compute Unified Device Architecture) is available and sets device accordingly. We then move, e.g., the model to the device (either GPU or CPU) by running\n",
    "\n",
    "- model = model.to(device)\n",
    "\n",
    "The same is true for any PyTorch tensor\n",
    "\n",
    "- tensor = tensor.to(device)\n",
    "\n",
    "To get an idea of how exactly to change the code, you can compare notebook 2.1 with notebook 2.2.\n",
    "\n",
    "**NB:** You cannot transform a tensor to numpy if it is on GPUs (see, e.g. [here](https://www.learnpytorch.io/00_pytorch_fundamentals/))\n",
    "\n",
    "**Exercise 9**: Modify the present notebook (2.1) based on your comparison to notebook 2.2 and run the code on GPUs."
   ]
  },
  {
   "cell_type": "code",
   "execution_count": null,
   "id": "intellectual-mediterranean",
   "metadata": {},
   "outputs": [],
   "source": []
  }
 ],
 "metadata": {
  "kernelspec": {
   "display_name": "PyTorch311",
   "language": "python",
   "name": "python3"
  },
  "language_info": {
   "codemirror_mode": {
    "name": "ipython",
    "version": 3
   },
   "file_extension": ".py",
   "mimetype": "text/x-python",
   "name": "python",
   "nbconvert_exporter": "python",
   "pygments_lexer": "ipython3",
   "version": "3.11.7"
  }
 },
 "nbformat": 4,
 "nbformat_minor": 5
}
