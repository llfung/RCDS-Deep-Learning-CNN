{
 "cells": [
  {
   "cell_type": "markdown",
   "id": "acceptable-access",
   "metadata": {},
   "source": [
    "# 1.1 PyTorch for Computer Vision"
   ]
  },
  {
   "cell_type": "markdown",
   "id": "funny-landing",
   "metadata": {},
   "source": [
    "In this note, we will address some of the basic commands that you will need from PyTorch in general and in computer vision in particular.\n",
    "\n",
    "<!---\n",
    "- [Basic PyTorch commands](#Basic-PyTorch-commands)\n",
    "- [Computer vision data sets](#Computer-vision-data-sets)\n",
    "- [Transforms](#Transforms)\n",
    "- [Exercises](#Exercises)\n",
    "-->\n",
    "\n",
    "First, we import the required libraries. These should all be available on Google Colab."
   ]
  },
  {
   "cell_type": "code",
   "execution_count": 1,
   "id": "pleased-naples",
   "metadata": {},
   "outputs": [],
   "source": [
    "import torch # PyTorch\n",
    "import torchvision # Computer vision\n",
    "# Data sets and transforms\n",
    "from torchvision import datasets\n",
    "import torchvision.transforms as transforms\n",
    "from torch.utils.data import DataLoader\n",
    "# Other libraries\n",
    "import matplotlib.pyplot as plt\n",
    "import numpy as np"
   ]
  },
  {
   "cell_type": "markdown",
   "id": "nominated-authority",
   "metadata": {},
   "source": [
    "You can, e.g., check your PyTorch "
   ]
  },
  {
   "cell_type": "code",
   "execution_count": 2,
   "id": "configured-slope",
   "metadata": {},
   "outputs": [
    {
     "data": {
      "text/plain": [
       "'2.5.1+cu124'"
      ]
     },
     "execution_count": 2,
     "metadata": {},
     "output_type": "execute_result"
    }
   ],
   "source": [
    "torch.__version__"
   ]
  },
  {
   "cell_type": "markdown",
   "id": "crucial-trinity",
   "metadata": {},
   "source": [
    "## Basic PyTorch commands"
   ]
  },
  {
   "cell_type": "markdown",
   "id": "looking-covering",
   "metadata": {},
   "source": [
    "PyTorch has its own objects: PyTorch tensors. All data will have to be put in this format."
   ]
  },
  {
   "cell_type": "code",
   "execution_count": 3,
   "id": "desirable-equipment",
   "metadata": {},
   "outputs": [],
   "source": [
    "scalar = torch.tensor(1)\n",
    "vector = torch.tensor([1, 2,2.5])\n",
    "matrix = torch.tensor([[[1, 2,3], [3, 4,5]],[[1, 2,3], [3, 4,5]]])"
   ]
  },
  {
   "cell_type": "markdown",
   "id": "regional-injury",
   "metadata": {},
   "source": [
    "If you already have a tensor object, you can print different properties."
   ]
  },
  {
   "cell_type": "markdown",
   "id": "36b13371",
   "metadata": {},
   "source": [
    "LF note: Matrix is row-major. Extra dimension added to the front."
   ]
  },
  {
   "cell_type": "code",
   "execution_count": 4,
   "id": "usual-tumor",
   "metadata": {},
   "outputs": [
    {
     "name": "stdout",
     "output_type": "stream",
     "text": [
      "3 torch.Size([2, 2, 3]) torch.float32\n",
      "tensor([1.0000, 2.0000, 2.5000])\n",
      "tensor([[[1, 2, 3],\n",
      "         [3, 4, 5]],\n",
      "\n",
      "        [[1, 2, 3],\n",
      "         [3, 4, 5]]])\n"
     ]
    }
   ],
   "source": [
    "print(matrix.ndim, matrix.shape,vector.dtype)\n",
    "print(vector)\n",
    "print(matrix)"
   ]
  },
  {
   "cell_type": "markdown",
   "id": "theoretical-simon",
   "metadata": {},
   "source": [
    "Many of the commands (such as the method creating vectors with ones in each entry) mirror the corresponding commands in numpy."
   ]
  },
  {
   "cell_type": "code",
   "execution_count": 5,
   "id": "fitted-monthly",
   "metadata": {},
   "outputs": [
    {
     "name": "stdout",
     "output_type": "stream",
     "text": [
      "tensor([[0.],\n",
      "        [0.],\n",
      "        [0.]])\n",
      "tensor([[1.],\n",
      "        [1.],\n",
      "        [1.]])\n"
     ]
    }
   ],
   "source": [
    "t0 = torch.zeros(size=(3,1))\n",
    "print(t0)\n",
    "t1 = torch.ones(size=(3,1))\n",
    "print(t1)"
   ]
  },
  {
   "cell_type": "markdown",
   "id": "final-chick",
   "metadata": {},
   "source": [
    "Just like in numpy you can, for instance, easily perform element-wise multiplication, multiply a tensor with a scalar or determine the index of the entry with the maximum or minimum value. But not everything is the same."
   ]
  },
  {
   "cell_type": "code",
   "execution_count": 6,
   "id": "regulated-climate",
   "metadata": {},
   "outputs": [
    {
     "name": "stdout",
     "output_type": "stream",
     "text": [
      "tensor([10., 20., 25.])\n",
      "tensor([1.0000, 4.0000, 6.2500])\n",
      "tensor(2)\n",
      "tensor(0)\n"
     ]
    }
   ],
   "source": [
    "print(10*vector)\n",
    "print(vector*vector)\n",
    "print(vector.argmax())\n",
    "print(vector.argmin())"
   ]
  },
  {
   "cell_type": "markdown",
   "id": "dominant-artwork",
   "metadata": {},
   "source": [
    "When creating so-called batches (see Lecture 1) of data in later notebooks, we will sometimes need to be able to add a dimension to a tensor. We thus keep the content of the data but add an empty dimension along the dimension dim."
   ]
  },
  {
   "cell_type": "code",
   "execution_count": 7,
   "id": "weighted-assignment",
   "metadata": {},
   "outputs": [
    {
     "data": {
      "text/plain": [
       "tensor([[1.0000, 2.0000, 2.5000]])"
      ]
     },
     "execution_count": 7,
     "metadata": {},
     "output_type": "execute_result"
    }
   ],
   "source": [
    "torch.unsqueeze(vector,dim=0)"
   ]
  },
  {
   "cell_type": "markdown",
   "id": "sought-retention",
   "metadata": {},
   "source": [
    "You can also turn PyTorch tensors into numpy objects"
   ]
  },
  {
   "cell_type": "code",
   "execution_count": 8,
   "id": "missing-federation",
   "metadata": {},
   "outputs": [
    {
     "data": {
      "text/plain": [
       "array([1. , 2. , 2.5], dtype=float32)"
      ]
     },
     "execution_count": 8,
     "metadata": {},
     "output_type": "execute_result"
    }
   ],
   "source": [
    "vector.numpy()"
   ]
  },
  {
   "cell_type": "markdown",
   "id": "sunrise-punishment",
   "metadata": {},
   "source": [
    "Or numpy objects into tensors."
   ]
  },
  {
   "cell_type": "code",
   "execution_count": 9,
   "id": "patient-problem",
   "metadata": {},
   "outputs": [
    {
     "data": {
      "text/plain": [
       "tensor([1, 2])"
      ]
     },
     "execution_count": 9,
     "metadata": {},
     "output_type": "execute_result"
    }
   ],
   "source": [
    "array = np.arange(1,3)\n",
    "torch.from_numpy(array)"
   ]
  },
  {
   "cell_type": "markdown",
   "id": "intellectual-christianity",
   "metadata": {},
   "source": [
    "For more basic PyTorch commands, see the exercises below."
   ]
  },
  {
   "cell_type": "markdown",
   "id": "ceramic-tenant",
   "metadata": {},
   "source": [
    "## Computer vision data sets"
   ]
  },
  {
   "cell_type": "markdown",
   "id": "tough-heritage",
   "metadata": {},
   "source": [
    "In this course, we will dive into Deep Learning for computer vision, i.e., we will be working with image data. Torchvision provides a long list of datasets that are commonly used for this purpose."
   ]
  },
  {
   "cell_type": "code",
   "execution_count": 10,
   "id": "improving-australian",
   "metadata": {},
   "outputs": [
    {
     "name": "stdout",
     "output_type": "stream",
     "text": [
      "('LSUN', 'LSUNClass', 'ImageFolder', 'DatasetFolder', 'FakeData', 'CocoCaptions', 'CocoDetection', 'CIFAR10', 'CIFAR100', 'EMNIST', 'FashionMNIST', 'QMNIST', 'MNIST', 'KMNIST', 'StanfordCars', 'STL10', 'SUN397', 'SVHN', 'PhotoTour', 'SEMEION', 'Omniglot', 'SBU', 'Flickr8k', 'Flickr30k', 'Flowers102', 'VOCSegmentation', 'VOCDetection', 'Cityscapes', 'ImageNet', 'Caltech101', 'Caltech256', 'CelebA', 'WIDERFace', 'SBDataset', 'VisionDataset', 'USPS', 'Kinetics', 'HMDB51', 'UCF101', 'Places365', 'Kitti', 'INaturalist', 'LFWPeople', 'LFWPairs', 'KittiFlow', 'Sintel', 'FlyingChairs', 'FlyingThings3D', 'HD1K', 'Food101', 'DTD', 'FER2013', 'GTSRB', 'CLEVRClassification', 'OxfordIIITPet', 'PCAM', 'Country211', 'FGVCAircraft', 'EuroSAT', 'RenderedSST2', 'Kitti2012Stereo', 'Kitti2015Stereo', 'CarlaStereo', 'Middlebury2014Stereo', 'CREStereo', 'FallingThingsStereo', 'SceneFlowStereo', 'SintelStereo', 'InStereo2k', 'ETH3DStereo', 'wrap_dataset_for_transforms_v2', 'Imagenette')\n"
     ]
    }
   ],
   "source": [
    "# Available datasets\n",
    "print(datasets.__all__)"
   ]
  },
  {
   "cell_type": "markdown",
   "id": "southern-world",
   "metadata": {},
   "source": [
    "To dowload and import the training set from the MNIST data set, we use the command.\n",
    "\n",
    "LF: Dataloader is doing something smart in memory management - It's effectively a pointer that load the data only when required. (c.f. especially important when you train with mini-batch)."
   ]
  },
  {
   "cell_type": "code",
   "execution_count": 11,
   "id": "lonely-aviation",
   "metadata": {},
   "outputs": [],
   "source": [
    "trainset_mnist_0 = datasets.MNIST(root='./data', train=True, download=True)"
   ]
  },
  {
   "cell_type": "markdown",
   "id": "clinical-skating",
   "metadata": {},
   "source": [
    "Note that not all datasets listed above can be easily downloaded with one line of code.\n",
    "\n",
    "We can plot individual images from this data set using matplotlib. Each image is a PyTorch tensor object."
   ]
  },
  {
   "cell_type": "code",
   "execution_count": 12,
   "id": "insured-steps",
   "metadata": {},
   "outputs": [
    {
     "name": "stdout",
     "output_type": "stream",
     "text": [
      "<class 'torch.Tensor'>\n",
      "<class 'torch.Tensor'>\n",
      "<class 'torch.Tensor'>\n",
      "<class 'torch.Tensor'>\n",
      "<class 'torch.Tensor'>\n"
     ]
    },
    {
     "data": {
      "image/png": "[encoded data removed]",
      "text/plain": [
       "<Figure size 1500x400 with 5 Axes>"
      ]
     },
     "metadata": {},
     "output_type": "display_data"
    }
   ],
   "source": [
    "fig, axes = plt.subplots(1, 5, figsize=(15, 4))\n",
    "for i in range(5):\n",
    "    img = trainset_mnist_0.data[i]\n",
    "    print(type(img))\n",
    "    axes[i].imshow(img, cmap='gray')\n",
    "    axes[i].axis('off')"
   ]
  },
  {
   "cell_type": "code",
   "execution_count": 13,
   "id": "05b57bef",
   "metadata": {},
   "outputs": [
    {
     "data": {
      "text/plain": [
       "torch.Size([28, 28])"
      ]
     },
     "execution_count": 13,
     "metadata": {},
     "output_type": "execute_result"
    }
   ],
   "source": [
    "type(trainset_mnist_0.data[1])\n",
    "trainset_mnist_0.data[1].shape"
   ]
  },
  {
   "cell_type": "markdown",
   "id": "qualified-roman",
   "metadata": {},
   "source": [
    "Let's try a different dataset."
   ]
  },
  {
   "cell_type": "code",
   "execution_count": 14,
   "id": "representative-spice",
   "metadata": {},
   "outputs": [
    {
     "name": "stdout",
     "output_type": "stream",
     "text": [
      "Downloading https://www.cs.toronto.edu/~kriz/cifar-10-python.tar.gz to ./data/cifar-10-python.tar.gz\n"
     ]
    },
    {
     "name": "stderr",
     "output_type": "stream",
     "text": [
      "100.0%\n"
     ]
    },
    {
     "name": "stdout",
     "output_type": "stream",
     "text": [
      "Extracting ./data/cifar-10-python.tar.gz to ./data\n"
     ]
    },
    {
     "name": "stderr",
     "output_type": "stream",
     "text": [
      "/usr/lib64/python3.11/tarfile.py:2253: RuntimeWarning: The default behavior of tarfile extraction has been changed to disallow common exploits (including CVE-2007-4559). By default, absolute/parent paths are disallowed and some mode bits are cleared. See https://access.redhat.com/articles/7004769 for more details.\n",
      "  warnings.warn(\n"
     ]
    }
   ],
   "source": [
    "trainset_cifar10_0 = datasets.CIFAR10(root='./data', train=True, download=True)"
   ]
  },
  {
   "cell_type": "markdown",
   "id": "04073975",
   "metadata": {},
   "source": [
    "Note the data size now include an extra dimension in the end, with 3 channels (RGB)."
   ]
  },
  {
   "cell_type": "code",
   "execution_count": 15,
   "id": "73cb5a13",
   "metadata": {},
   "outputs": [
    {
     "data": {
      "text/plain": [
       "(32, 32, 3)"
      ]
     },
     "execution_count": 15,
     "metadata": {},
     "output_type": "execute_result"
    }
   ],
   "source": [
    "trainset_cifar10_0.data[1].shape"
   ]
  },
  {
   "cell_type": "code",
   "execution_count": 16,
   "id": "3232878e",
   "metadata": {},
   "outputs": [],
   "source": [
    "# Getting the mean and std before normalization\n",
    "cifar10_mean_original = trainset_cifar10_0.data.mean(axis=(0,1,2))/255\n",
    "cifar10_std_original  = trainset_cifar10_0.data.std(axis=(0,1,2))/255"
   ]
  },
  {
   "cell_type": "code",
   "execution_count": 17,
   "id": "arabic-government",
   "metadata": {},
   "outputs": [
    {
     "data": {
      "image/png": "[encoded data removed]",
      "text/plain": [
       "<Figure size 1500x300 with 5 Axes>"
      ]
     },
     "metadata": {},
     "output_type": "display_data"
    }
   ],
   "source": [
    "fig, axes = plt.subplots(1, 5, figsize=(15, 3))\n",
    "for i in range(5):\n",
    "    img = trainset_cifar10_0.data[i]\n",
    "    axes[i].imshow(img)\n",
    "    axes[i].axis('off')\n"
   ]
  },
  {
   "cell_type": "markdown",
   "id": "paperback-connecticut",
   "metadata": {},
   "source": [
    "## Transforms"
   ]
  },
  {
   "cell_type": "markdown",
   "id": "harmful-pharmacology",
   "metadata": {},
   "source": [
    "Before we can pass the data to our Deep Learning model, we will often have to transform it to ensure that it has the correct format. Maybe the images are too small or too large compared to the images on which we have trained our model. It is also common practice to normalise the images before passing them to the Deep Learning model, as this approach is beneficial for convergence, stability during training and the generalisation of the network.\n",
    "\n",
    "Let's define a transform for normalisation."
   ]
  },
  {
   "cell_type": "code",
   "execution_count": 18,
   "id": "extraordinary-negative",
   "metadata": {},
   "outputs": [],
   "source": [
    "# MNIST is black and white. So, we only need one color channel. Other data sets have three \n",
    "means = (0.5)\n",
    "stds = (0.5)\n",
    "\n",
    "# Define the data transform including normalization\n",
    "transform_mnist_0 = transforms.Compose([\n",
    "    transforms.ToTensor(),  # convert to PyTorch tensor\n",
    "    transforms.Normalize(mean=means, std=stds)  # normalize images\n",
    "])\n",
    "\n",
    "# In contrast, CIFAR10 provides pictures with three channels (RGB). \n",
    "\n",
    "means10 = (0.5,0.5,0.5)\n",
    "stds10 = (0.5,0.5,0.5)\n",
    "\n",
    "# Define the data transform including normalization\n",
    "transform_cifar10_0 = transforms.Compose([\n",
    "    transforms.ToTensor(),  # Converts the image to a PyTorch tensor (flip)\n",
    "    transforms.Normalize(means10, stds10),  # Normalize to a range of -1 to 1 for three channels\n",
    "])"
   ]
  },
  {
   "cell_type": "markdown",
   "id": "centered-cliff",
   "metadata": {},
   "source": [
    "If we had defined the transform before we loaded the data, we could have applied the transform to the data right away. However, we can still do so retrospectively."
   ]
  },
  {
   "cell_type": "code",
   "execution_count": 19,
   "id": "reliable-fashion",
   "metadata": {},
   "outputs": [],
   "source": [
    "# Apply the transform to the dataset\n",
    "trainset_cifar10_0.transform = transform_cifar10_0"
   ]
  },
  {
   "cell_type": "code",
   "execution_count": 20,
   "id": "89b33ce8",
   "metadata": {},
   "outputs": [
    {
     "data": {
      "text/plain": [
       "array([[[154, 177, 187],\n",
       "        [126, 137, 136],\n",
       "        [105, 104,  95],\n",
       "        ...,\n",
       "        [ 91,  95,  71],\n",
       "        [ 87,  90,  71],\n",
       "        [ 79,  81,  70]],\n",
       "\n",
       "       [[140, 160, 169],\n",
       "        [145, 153, 154],\n",
       "        [125, 125, 118],\n",
       "        ...,\n",
       "        [ 96,  99,  78],\n",
       "        [ 77,  80,  62],\n",
       "        [ 71,  73,  61]],\n",
       "\n",
       "       [[140, 155, 164],\n",
       "        [139, 146, 149],\n",
       "        [115, 115, 112],\n",
       "        ...,\n",
       "        [ 79,  82,  64],\n",
       "        [ 68,  70,  55],\n",
       "        [ 67,  69,  55]],\n",
       "\n",
       "       ...,\n",
       "\n",
       "       [[175, 167, 166],\n",
       "        [156, 154, 160],\n",
       "        [154, 160, 170],\n",
       "        ...,\n",
       "        [ 42,  34,  36],\n",
       "        [ 61,  53,  57],\n",
       "        [ 93,  83,  91]],\n",
       "\n",
       "       [[165, 154, 128],\n",
       "        [156, 152, 130],\n",
       "        [159, 161, 142],\n",
       "        ...,\n",
       "        [103,  93,  96],\n",
       "        [123, 114, 120],\n",
       "        [131, 121, 131]],\n",
       "\n",
       "       [[163, 148, 120],\n",
       "        [158, 148, 122],\n",
       "        [163, 156, 133],\n",
       "        ...,\n",
       "        [143, 133, 139],\n",
       "        [143, 134, 142],\n",
       "        [143, 133, 144]]], dtype=uint8)"
      ]
     },
     "execution_count": 20,
     "metadata": {},
     "output_type": "execute_result"
    }
   ],
   "source": [
    "# Peek into the transformed data\n",
    "trainset_cifar10_0.data[1] # The data is not yet transformed!!\n",
    "# This is because the transformation is \"attached\" to the dataset as a rule to be run, only run during training."
   ]
  },
  {
   "cell_type": "code",
   "execution_count": 21,
   "id": "fdfdcf7c",
   "metadata": {},
   "outputs": [
    {
     "data": {
      "text/plain": [
       "torch.Size([3, 32, 32])"
      ]
     },
     "execution_count": 21,
     "metadata": {},
     "output_type": "execute_result"
    }
   ],
   "source": [
    "# To look into the transformed data\n",
    "# trainset_cifar10_0.data[1].shape\n",
    "(transforms.ToTensor()(trainset_cifar10_0.data[1])).shape # Note how the dimensions are inverted (from HxWxC to CxHxW)\n",
    "# transforms.Normalize(trainset_cifar10_0.data[1],mean=0.5, std=0.5) # DOESN'T WORK??"
   ]
  },
  {
   "cell_type": "code",
   "execution_count": 22,
   "id": "205a98cd",
   "metadata": {},
   "outputs": [
    {
     "data": {
      "text/plain": [
       "9"
      ]
     },
     "execution_count": 22,
     "metadata": {},
     "output_type": "execute_result"
    }
   ],
   "source": [
    "# Also note that data, the labels are saved as \"targets\"\n",
    "trainset_cifar10_0.targets[1]"
   ]
  },
  {
   "cell_type": "markdown",
   "id": "thorough-nitrogen",
   "metadata": {},
   "source": [
    "We can divide the entire dataset into smaller batches, shuffle it and provide an iterable interface for retrieving batches during the training process using the DataLoader class."
   ]
  },
  {
   "cell_type": "code",
   "execution_count": 23,
   "id": "variable-scoop",
   "metadata": {},
   "outputs": [],
   "source": [
    "train_loader_cifar10 = DataLoader(trainset_cifar10_0, batch_size=32, shuffle=True)"
   ]
  },
  {
   "cell_type": "markdown",
   "id": "enclosed-interview",
   "metadata": {},
   "source": [
    "If you plot the image, you can now see that the colours are a bit off because we normalised the image."
   ]
  },
  {
   "cell_type": "code",
   "execution_count": 24,
   "id": "common-drawing",
   "metadata": {},
   "outputs": [
    {
     "name": "stderr",
     "output_type": "stream",
     "text": [
      "Clipping input data to the valid range for imshow with RGB data ([0..1] for floats or [0..255] for integers). Got range [-1.0..0.9372549].\n",
      "Clipping input data to the valid range for imshow with RGB data ([0..1] for floats or [0..255] for integers). Got range [-0.5529412..0.85882354].\n",
      "Clipping input data to the valid range for imshow with RGB data ([0..1] for floats or [0..255] for integers). Got range [-0.84313726..1.0].\n",
      "Clipping input data to the valid range for imshow with RGB data ([0..1] for floats or [0..255] for integers). Got range [-0.96862745..0.79607844].\n",
      "Clipping input data to the valid range for imshow with RGB data ([0..1] for floats or [0..255] for integers). Got range [-1.0..1.0].\n"
     ]
    },
    {
     "data": {
      "image/png": "[encoded data removed]",
      "text/plain": [
       "<Figure size 1500x300 with 5 Axes>"
      ]
     },
     "metadata": {},
     "output_type": "display_data"
    }
   ],
   "source": [
    "# Get the first batch from the data loader\n",
    "dataiter = iter(train_loader_cifar10) # Now, data is in data loader\n",
    "images, labels = next(dataiter) # Everytime you access \"image\", the data loader point to the next batch\n",
    "\n",
    "fig, axes = plt.subplots(1, 5, figsize=(15, 3))\n",
    "for i in range(5):\n",
    "    img = images[i].permute(1,2,0) # The ToTensor has permuted the dimensions (from HxWxC to CxHxW), so we need to undo this (from CxHxW back to HxWxC)\n",
    "    axes[i].imshow(img)\n",
    "    axes[i].axis('off')"
   ]
  },
  {
   "cell_type": "markdown",
   "id": "waiting-portugal",
   "metadata": {},
   "source": [
    "We can also use transforms for image augmentation, i.e., we scale, translate or rotate the images to create new images. By doing so, we reduce overfitting and introduce scale and orientation invariance."
   ]
  },
  {
   "cell_type": "code",
   "execution_count": 25,
   "id": "greek-reading",
   "metadata": {},
   "outputs": [
    {
     "data": {
      "text/plain": [
       "Compose(\n",
       "    RandomHorizontalFlip(p=0.5)\n",
       "    RandomRotation(degrees=[-90.0, 90.0], interpolation=nearest, expand=False, fill=0)\n",
       "    ToTensor()\n",
       "    Normalize(mean=0.5, std=0.5)\n",
       ")"
      ]
     },
     "execution_count": 25,
     "metadata": {},
     "output_type": "execute_result"
    }
   ],
   "source": [
    "transform_mnist_1 = transforms.Compose([\n",
    "    transforms.RandomHorizontalFlip(), # Randomflip\n",
    "    transforms.RandomRotation(degrees=(-90, 90)),  # Random rotation between -30 and 30 degrees\n",
    "    transforms.ToTensor(),  # convert to PyTorch tensor (It also re-interpolates the image, and scale it to [0,1])\n",
    "    transforms.Normalize(mean=means, std=stds),  # normalize images\n",
    "])\n",
    "\n",
    "# Apply the transform to the dataset\n",
    "trainset_mnist_0.transform = transform_mnist_1\n",
    "train_loader_mnist = DataLoader(trainset_mnist_0, batch_size=32, shuffle=True)\n",
    "trainset_mnist_0.transform"
   ]
  },
  {
   "cell_type": "code",
   "execution_count": 26,
   "id": "therapeutic-istanbul",
   "metadata": {},
   "outputs": [
    {
     "data": {
      "image/png": "[encoded data removed]",
      "text/plain": [
       "<Figure size 1500x300 with 5 Axes>"
      ]
     },
     "metadata": {},
     "output_type": "display_data"
    }
   ],
   "source": [
    "# Get the first batch from the data loader\n",
    "dataiter = iter(train_loader_mnist)\n",
    "images, labels = next(dataiter)\n",
    "\n",
    "fig, axes = plt.subplots(1, 5, figsize=(15, 3))\n",
    "for i in range(5):\n",
    "    img = images[i].permute(1, 2, 0)\n",
    "    axes[i].imshow(img, cmap=\"gray\")\n",
    "    axes[i].axis('off')"
   ]
  },
  {
   "cell_type": "markdown",
   "id": "committed-effort",
   "metadata": {},
   "source": [
    "## Exercises"
   ]
  },
  {
   "cell_type": "markdown",
   "id": "incredible-honey",
   "metadata": {},
   "source": [
    "**Exercise 1**: Find out how to transpose, stack, reshape and permute tensors. "
   ]
  },
  {
   "cell_type": "code",
   "execution_count": null,
   "id": "dangerous-module",
   "metadata": {},
   "outputs": [
    {
     "name": "stdout",
     "output_type": "stream",
     "text": [
      "tensor([[[ 4, 62,  7],\n",
      "         [24, 65, 86]],\n",
      "\n",
      "        [[ 1,  2,  3],\n",
      "         [ 4,  5,  6]]])\n",
      "tensor([[[ 4, 24],\n",
      "         [62, 65],\n",
      "         [ 7, 86]],\n",
      "\n",
      "        [[ 1,  4],\n",
      "         [ 2,  5],\n",
      "         [ 3,  6]]])\n",
      "tensor([[[[ 4, 62,  7],\n",
      "          [24, 65, 86]],\n",
      "\n",
      "         [[ 1,  2,  3],\n",
      "          [ 4,  5,  6]]],\n",
      "\n",
      "\n",
      "        [[[ 4, 62,  7],\n",
      "          [24, 65, 86]],\n",
      "\n",
      "         [[ 1,  2,  3],\n",
      "          [ 4,  5,  6]]]])\n"
     ]
    }
   ],
   "source": [
    "# Create a sample tensor\n",
    "tensor = torch.tensor([[[4,62, 7], [24, 65, 86]],[[1, 2, 3], [4, 5, 6]]])\n",
    "\n",
    "# Transpose the tensor\n",
    "transposed_tensor = tensor.transpose(2, 1)\n",
    "print(tensor)\n",
    "print(transposed_tensor)\n",
    "\n",
    "# Stack the tensor along a new dimension\n",
    "stacked_tensor = torch.stack([tensor, tensor], dim=0)\n",
    "print(stacked_tensor)"
   ]
  },
  {
   "cell_type": "markdown",
   "id": "dominant-cambodia",
   "metadata": {},
   "source": [
    "**Exercise 2**: Construct a matrix as a PyTorch tensor. Perform matrix multiplication (cf. torch.matmul())"
   ]
  },
  {
   "cell_type": "code",
   "execution_count": 33,
   "id": "guilty-encounter",
   "metadata": {},
   "outputs": [
    {
     "name": "stdout",
     "output_type": "stream",
     "text": [
      "tensor([[19, 22],\n",
      "        [43, 50]])\n"
     ]
    }
   ],
   "source": [
    "# Define two matrices\n",
    "matrix1 = torch.tensor([[1, 2], [3, 4]])\n",
    "matrix2 = torch.tensor([[5, 6], [7, 8]])\n",
    "\n",
    "# Perform matrix multiplication\n",
    "result = torch.matmul(matrix1, matrix2)\n",
    "print(result)"
   ]
  },
  {
   "cell_type": "markdown",
   "id": "sonic-amateur",
   "metadata": {},
   "source": [
    "**Exercise 3**: Just like you can unsqueeze a tensor, you can squeeze it. Find out how and what it means."
   ]
  },
  {
   "cell_type": "code",
   "execution_count": 27,
   "id": "republican-adjustment",
   "metadata": {},
   "outputs": [
    {
     "data": {
      "text/plain": [
       "torch.Size([28, 28])"
      ]
     },
     "execution_count": 27,
     "metadata": {},
     "output_type": "execute_result"
    }
   ],
   "source": [
    "dataiter = iter(train_loader_mnist)\n",
    "image, labels  = next(dataiter)\n",
    "# image[1].shape # [1,28,28]\n",
    "torch.squeeze(image[1],dim=0).shape  # [28,28]"
   ]
  },
  {
   "cell_type": "markdown",
   "id": "southern-breath",
   "metadata": {},
   "source": [
    "**Exercise 4**: Load and plot examples from another data set from torchvision."
   ]
  },
  {
   "cell_type": "code",
   "execution_count": null,
   "id": "superior-colleague",
   "metadata": {},
   "outputs": [],
   "source": []
  },
  {
   "cell_type": "markdown",
   "id": "contrary-worker",
   "metadata": {},
   "source": [
    "**Exercise 5**: In cell [18] above, where we plot the CIFAR10 images after normalisation, the colours are off. Correct for this by denormalising the picture before plotting."
   ]
  },
  {
   "cell_type": "code",
   "execution_count": 28,
   "id": "split-charge",
   "metadata": {},
   "outputs": [
    {
     "name": "stderr",
     "output_type": "stream",
     "text": [
      "Clipping input data to the valid range for imshow with RGB data ([0..1] for floats or [0..255] for integers). Got range [-0.25..0.75].\n",
      "Clipping input data to the valid range for imshow with RGB data ([0..1] for floats or [0..255] for integers). Got range [-0.24607843..0.7107843].\n",
      "Clipping input data to the valid range for imshow with RGB data ([0..1] for floats or [0..255] for integers). Got range [-0.17941177..0.5147059].\n",
      "Clipping input data to the valid range for imshow with RGB data ([0..1] for floats or [0..255] for integers). Got range [-0.19509804..0.7029412].\n",
      "Clipping input data to the valid range for imshow with RGB data ([0..1] for floats or [0..255] for integers). Got range [-0.17941177..0.5852941].\n"
     ]
    },
    {
     "data": {
      "image/png": "[encoded data removed]",
      "text/plain": [
       "<Figure size 1500x300 with 5 Axes>"
      ]
     },
     "metadata": {},
     "output_type": "display_data"
    }
   ],
   "source": [
    "# Get the first batch from the data loader\n",
    "dataiter = iter(train_loader_cifar10) # Now, data is in data loader\n",
    "images, labels = next(dataiter) # Everytime you access \"image\", the data loader point to the next batch\n",
    "\n",
    "# Define the data transform including normalization\n",
    "Inversetransform_cifar10_0 = transforms.Compose([\n",
    "    transforms.Normalize(-0.5, 2.0), # The original normalization was shift 0.5 down and rescale by 0.5\n",
    "])\n",
    "images  = Inversetransform_cifar10_0(images)\n",
    "fig, axes = plt.subplots(1, 5, figsize=(15, 3))\n",
    "for i in range(5):\n",
    "    img = images[i].permute(1,2,0) # The ToTensor has permuted the dimensions (from HxWxC to CxHxW), so we need to undo this (from CxHxW back to HxWxC)\n",
    "    axes[i].imshow(img)\n",
    "    axes[i].axis('off')"
   ]
  },
  {
   "cell_type": "markdown",
   "id": "talented-blogger",
   "metadata": {},
   "source": [
    "**Exercise 6**: Above, we discuss a few transforms for data augmentation. What other transforms are there for this purpose? Write the corresponding code below."
   ]
  },
  {
   "cell_type": "code",
   "execution_count": 44,
   "id": "surgical-heath",
   "metadata": {},
   "outputs": [
    {
     "name": "stderr",
     "output_type": "stream",
     "text": [
      "100.0%"
     ]
    },
    {
     "name": "stdout",
     "output_type": "stream",
     "text": [
      "Downloading https://raw.githubusercontent.com/facebookresearch/qmnist/master/qmnist-train-images-idx3-ubyte.gz to ./data/QMNIST/raw/qmnist-train-images-idx3-ubyte.gz\n",
      "Extracting ./data/QMNIST/raw/qmnist-train-images-idx3-ubyte.gz to ./data/QMNIST/raw\n"
     ]
    },
    {
     "name": "stderr",
     "output_type": "stream",
     "text": [
      "\n",
      "100.0%"
     ]
    },
    {
     "name": "stdout",
     "output_type": "stream",
     "text": [
      "Downloading https://raw.githubusercontent.com/facebookresearch/qmnist/master/qmnist-train-labels-idx2-int.gz to ./data/QMNIST/raw/qmnist-train-labels-idx2-int.gz\n",
      "Extracting ./data/QMNIST/raw/qmnist-train-labels-idx2-int.gz to ./data/QMNIST/raw\n",
      "<class 'torch.Tensor'>\n",
      "<class 'torch.Tensor'>\n",
      "<class 'torch.Tensor'>\n",
      "<class 'torch.Tensor'>\n",
      "<class 'torch.Tensor'>\n"
     ]
    },
    {
     "name": "stderr",
     "output_type": "stream",
     "text": [
      "\n"
     ]
    },
    {
     "data": {
      "image/png": "[encoded data removed]",
      "text/plain": [
       "<Figure size 1500x400 with 5 Axes>"
      ]
     },
     "metadata": {},
     "output_type": "display_data"
    }
   ],
   "source": [
    "OtherMNIST=datasets.QMNIST(root='./data', download=True, train=True)\n",
    "fig, axes = plt.subplots(1, 5, figsize=(15, 4))\n",
    "for i in range(5):\n",
    "    img = OtherMNIST.data[i]\n",
    "    print(type(img))\n",
    "    axes[i].imshow(img)\n",
    "    axes[i].axis('off')"
   ]
  }
 ],
 "metadata": {
  "kernelspec": {
   "display_name": "PyTorch311",
   "language": "python",
   "name": "python3"
  },
  "language_info": {
   "codemirror_mode": {
    "name": "ipython",
    "version": 3
   },
   "file_extension": ".py",
   "mimetype": "text/x-python",
   "name": "python",
   "nbconvert_exporter": "python",
   "pygments_lexer": "ipython3",
   "version": "3.11.7"
  }
 },
 "nbformat": 4,
 "nbformat_minor": 5
}
